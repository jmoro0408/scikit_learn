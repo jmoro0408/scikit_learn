{
 "cells": [
  {
   "cell_type": "code",
   "execution_count": 3,
   "id": "operational-scholarship",
   "metadata": {},
   "outputs": [],
   "source": [
    "import numpy as np\n",
    "\n",
    "def generate_time_series(batch_size, n_steps):\n",
    "    freq1, freq2, offsets1, offsets2 = np.random.rand(4, batch_size, 1)\n",
    "    time = np.linspace(0,1,n_steps)\n",
    "    series = 0.5 * np.sin((time-offsets1)*(freq1*10+10))\n",
    "    series  +=0.2 * np.sin((time-offsets2)*(freq2*20+20))\n",
    "    series  +=0.1* (np.random.rand(batch_size, n_steps)-0.5)\n",
    "    return series[..., np.newaxis].astype(np.float32)"
   ]
  },
  {
   "cell_type": "code",
   "execution_count": 5,
   "id": "rapid-relaxation",
   "metadata": {},
   "outputs": [],
   "source": [
    "n_steps = 50\n",
    "series = generate_time_series(10000, n_steps+1)\n",
    "X_train, y_train = series[:7000, :n_steps], series[:7000, -1]\n",
    "X_valid, y_valid = series[7000:9000, :n_steps], series[7000:9000, -1]\n",
    "X_test, y_test = series[9000:, :n_steps], series[9000:, -1]"
   ]
  },
  {
   "cell_type": "code",
   "execution_count": 6,
   "id": "sought-detector",
   "metadata": {},
   "outputs": [],
   "source": [
    "y_pred = X_valid[:,-1]"
   ]
  },
  {
   "cell_type": "code",
   "execution_count": 7,
   "id": "preliminary-roots",
   "metadata": {},
   "outputs": [
    {
     "name": "stderr",
     "output_type": "stream",
     "text": [
      "/Users/James/.pyenv/versions/3.8.5/envs/ml_env/lib/python3.8/site-packages/pandas/compat/__init__.py:97: UserWarning: Could not import the lzma module. Your installed Python is incomplete. Attempting to use lzma compression will result in a RuntimeError.\n",
      "  warnings.warn(msg)\n"
     ]
    }
   ],
   "source": [
    "import tensorflow as tf\n",
    "from tensorflow import keras"
   ]
  },
  {
   "cell_type": "code",
   "execution_count": 8,
   "id": "ranking-replication",
   "metadata": {},
   "outputs": [
    {
     "data": {
      "text/plain": [
       "0.020470455"
      ]
     },
     "execution_count": 8,
     "metadata": {},
     "output_type": "execute_result"
    }
   ],
   "source": [
    "#Naive forecasting\n",
    "np.mean(keras.losses.mean_squared_error(y_valid, y_pred))"
   ]
  },
  {
   "cell_type": "code",
   "execution_count": 12,
   "id": "charitable-surge",
   "metadata": {},
   "outputs": [],
   "source": [
    "#Simple fully connected layer\n",
    "model = keras.models.Sequential([\n",
    "    keras.layers.Flatten(input_shape = [50,1]), \n",
    "    keras.layers.Dense(1)\n",
    "])"
   ]
  },
  {
   "cell_type": "code",
   "execution_count": 32,
   "id": "separated-gross",
   "metadata": {},
   "outputs": [],
   "source": [
    "def compile_model(model = model):\n",
    "    model.compile(loss = \"mean_squared_error\", optimizer = keras.optimizers.Adam())\n",
    "    history = model.fit(X_train, y_train, epochs=20, validation_data=(X_valid, y_valid))\n",
    "    evaluate = model.evaluate(X_test, y_test)\n",
    "    return evaluate"
   ]
  },
  {
   "cell_type": "code",
   "execution_count": 18,
   "id": "internal-acrobat",
   "metadata": {},
   "outputs": [
    {
     "name": "stdout",
     "output_type": "stream",
     "text": [
      "32/32 [==============================] - 0s 5ms/step - loss: 0.0040\n"
     ]
    },
    {
     "data": {
      "text/plain": [
       "0.003998058382421732"
      ]
     },
     "execution_count": 18,
     "metadata": {},
     "output_type": "execute_result"
    }
   ],
   "source": [
    "model.evaluate(X_test, y_test)"
   ]
  },
  {
   "cell_type": "code",
   "execution_count": 19,
   "id": "verified-figure",
   "metadata": {},
   "outputs": [],
   "source": [
    "#Simple RNN\n",
    "model = keras.models.Sequential([\n",
    "    keras.layers.SimpleRNN(1, input_shape = [None, 1])\n",
    "    \n",
    "])"
   ]
  },
  {
   "cell_type": "code",
   "execution_count": 20,
   "id": "laden-remains",
   "metadata": {},
   "outputs": [
    {
     "name": "stdout",
     "output_type": "stream",
     "text": [
      "32/32 [==============================] - 0s 6ms/step - loss: 0.0135\n"
     ]
    },
    {
     "data": {
      "text/plain": [
       "0.013519316911697388"
      ]
     },
     "execution_count": 20,
     "metadata": {},
     "output_type": "execute_result"
    }
   ],
   "source": [
    "model.compile(loss = \"mean_squared_error\", optimizer = keras.optimizers.Adam())\n",
    "history = model.fit(X_train, y_train, epochs=20, validation_data=(X_valid, y_valid), verbose = 0)\n",
    "model.evaluate(X_test, y_test)"
   ]
  },
  {
   "cell_type": "markdown",
   "id": "retired-poker",
   "metadata": {},
   "source": [
    "Worse than our fully connected model!"
   ]
  },
  {
   "cell_type": "code",
   "execution_count": 21,
   "id": "amber-transsexual",
   "metadata": {},
   "outputs": [],
   "source": [
    "#Deep RNN\n",
    "model = keras.models.Sequential([\n",
    "    keras.layers.SimpleRNN(20,return_sequences = True,  input_shape = [None, 1]), \n",
    "    keras.layers.SimpleRNN(20,return_sequences = True),\n",
    "    keras.layers.SimpleRNN(1)\n",
    "    \n",
    "])"
   ]
  },
  {
   "cell_type": "code",
   "execution_count": 22,
   "id": "better-commonwealth",
   "metadata": {},
   "outputs": [
    {
     "name": "stdout",
     "output_type": "stream",
     "text": [
      "32/32 [==============================] - 0s 13ms/step - loss: 0.0032\n"
     ]
    },
    {
     "data": {
      "text/plain": [
       "0.0032497637439519167"
      ]
     },
     "execution_count": 22,
     "metadata": {},
     "output_type": "execute_result"
    }
   ],
   "source": [
    "model.compile(loss = \"mean_squared_error\", optimizer = keras.optimizers.Adam())\n",
    "history = model.fit(X_train, y_train, epochs=20, validation_data=(X_valid, y_valid), verbose = 0)\n",
    "model.evaluate(X_test, y_test)"
   ]
  },
  {
   "cell_type": "markdown",
   "id": "proud-playlist",
   "metadata": {},
   "source": [
    "Better than our fully connected model!"
   ]
  },
  {
   "cell_type": "code",
   "execution_count": 28,
   "id": "artificial-piece",
   "metadata": {},
   "outputs": [],
   "source": [
    "#Forecasting several time steps ahead\n",
    "series = generate_time_series(1,n_steps + 10)\n",
    "X_new, Y_new = series[:,:n_steps], series[:,n_steps]\n",
    "X= X_new\n",
    "for step_ahead in range(10):\n",
    "    y_pred_one = model.predict(X[:,step_ahead:])[:,np.newaxis,:]\n",
    "    X = np.concatenate([X, y_pred_one], axis = 1)\n",
    "            \n",
    "Y_pred = X[:,n_steps]"
   ]
  },
  {
   "cell_type": "code",
   "execution_count": 29,
   "id": "japanese-internet",
   "metadata": {},
   "outputs": [
    {
     "data": {
      "text/plain": [
       "array([[-0.61122364]], dtype=float32)"
      ]
     },
     "execution_count": 29,
     "metadata": {},
     "output_type": "execute_result"
    }
   ],
   "source": [
    "Y_pred"
   ]
  },
  {
   "cell_type": "code",
   "execution_count": 41,
   "id": "comparative-bruce",
   "metadata": {},
   "outputs": [],
   "source": [
    "n_steps = 50\n",
    "series = generate_time_series(10000, n_steps + 10)\n",
    "X_train = series[:7000, :n_steps]\n",
    "X_valid = series[7000:9000, :n_steps]\n",
    "X_test = series[9000:, :n_steps]\n",
    "Y = np.empty((10000, n_steps, 10))\n",
    "for step_ahead in range(1, 10 + 1):\n",
    "    Y[..., step_ahead - 1] = series[..., step_ahead:step_ahead + n_steps, 0]\n",
    "Y_train = Y[:7000]\n",
    "Y_valid = Y[7000:9000]\n",
    "Y_test = Y[9000:]"
   ]
  },
  {
   "cell_type": "code",
   "execution_count": 42,
   "id": "sudden-muslim",
   "metadata": {},
   "outputs": [
    {
     "data": {
      "text/plain": [
       "((7000, 50, 1), (7000, 50, 10))"
      ]
     },
     "execution_count": 42,
     "metadata": {},
     "output_type": "execute_result"
    }
   ],
   "source": [
    "X_train.shape, Y_train.shape"
   ]
  },
  {
   "cell_type": "code",
   "execution_count": 45,
   "id": "constitutional-technical",
   "metadata": {},
   "outputs": [
    {
     "name": "stdout",
     "output_type": "stream",
     "text": [
      "Epoch 1/20\n",
      "219/219 [==============================] - 10s 36ms/step - loss: 0.0774 - last_time_step_mse: 0.0697 - val_loss: 0.0433 - val_last_time_step_mse: 0.0314\n",
      "Epoch 2/20\n",
      "219/219 [==============================] - 7s 32ms/step - loss: 0.0429 - last_time_step_mse: 0.0315 - val_loss: 0.0339 - val_last_time_step_mse: 0.0220\n",
      "Epoch 3/20\n",
      "219/219 [==============================] - 7s 33ms/step - loss: 0.0331 - last_time_step_mse: 0.0210 - val_loss: 0.0303 - val_last_time_step_mse: 0.0179\n",
      "Epoch 4/20\n",
      "219/219 [==============================] - 7s 34ms/step - loss: 0.0281 - last_time_step_mse: 0.0153 - val_loss: 0.0247 - val_last_time_step_mse: 0.0119\n",
      "Epoch 5/20\n",
      "219/219 [==============================] - 7s 32ms/step - loss: 0.0246 - last_time_step_mse: 0.0118 - val_loss: 0.0225 - val_last_time_step_mse: 0.0095\n",
      "Epoch 6/20\n",
      "219/219 [==============================] - 7s 33ms/step - loss: 0.0235 - last_time_step_mse: 0.0111 - val_loss: 0.0221 - val_last_time_step_mse: 0.0101\n",
      "Epoch 7/20\n",
      "219/219 [==============================] - 7s 32ms/step - loss: 0.0230 - last_time_step_mse: 0.0106 - val_loss: 0.0217 - val_last_time_step_mse: 0.0099\n",
      "Epoch 8/20\n",
      "219/219 [==============================] - 7s 33ms/step - loss: 0.0221 - last_time_step_mse: 0.0098 - val_loss: 0.0211 - val_last_time_step_mse: 0.0084\n",
      "Epoch 9/20\n",
      "219/219 [==============================] - 7s 34ms/step - loss: 0.0214 - last_time_step_mse: 0.0092 - val_loss: 0.0207 - val_last_time_step_mse: 0.0088\n",
      "Epoch 10/20\n",
      "219/219 [==============================] - 7s 34ms/step - loss: 0.0207 - last_time_step_mse: 0.0087 - val_loss: 0.0198 - val_last_time_step_mse: 0.0074\n",
      "Epoch 11/20\n",
      "219/219 [==============================] - 8s 35ms/step - loss: 0.0213 - last_time_step_mse: 0.0095 - val_loss: 0.0218 - val_last_time_step_mse: 0.0101\n",
      "Epoch 12/20\n",
      "219/219 [==============================] - 7s 33ms/step - loss: 0.0207 - last_time_step_mse: 0.0089 - val_loss: 0.0217 - val_last_time_step_mse: 0.0104\n",
      "Epoch 13/20\n",
      "219/219 [==============================] - 9s 39ms/step - loss: 0.0204 - last_time_step_mse: 0.0087 - val_loss: 0.0220 - val_last_time_step_mse: 0.0108\n",
      "Epoch 14/20\n",
      "219/219 [==============================] - 7s 33ms/step - loss: 0.0204 - last_time_step_mse: 0.0085 - val_loss: 0.0190 - val_last_time_step_mse: 0.0074\n",
      "Epoch 15/20\n",
      "219/219 [==============================] - 7s 33ms/step - loss: 0.0196 - last_time_step_mse: 0.0076 - val_loss: 0.0196 - val_last_time_step_mse: 0.0085\n",
      "Epoch 16/20\n",
      "219/219 [==============================] - 7s 33ms/step - loss: 0.0199 - last_time_step_mse: 0.0077 - val_loss: 0.0221 - val_last_time_step_mse: 0.0108\n",
      "Epoch 17/20\n",
      "219/219 [==============================] - 7s 34ms/step - loss: 0.0203 - last_time_step_mse: 0.0085 - val_loss: 0.0193 - val_last_time_step_mse: 0.0075\n",
      "Epoch 18/20\n",
      "219/219 [==============================] - 8s 35ms/step - loss: 0.0195 - last_time_step_mse: 0.0079 - val_loss: 0.0197 - val_last_time_step_mse: 0.0078\n",
      "Epoch 19/20\n",
      "219/219 [==============================] - 7s 34ms/step - loss: 0.0202 - last_time_step_mse: 0.0087 - val_loss: 0.0197 - val_last_time_step_mse: 0.0081\n",
      "Epoch 20/20\n",
      "219/219 [==============================] - 7s 33ms/step - loss: 0.0194 - last_time_step_mse: 0.0079 - val_loss: 0.0201 - val_last_time_step_mse: 0.0087\n"
     ]
    }
   ],
   "source": [
    "model = keras.models.Sequential([\n",
    "    keras.layers.SimpleRNN(20, return_sequences=True, input_shape=[None, 1]),\n",
    "    keras.layers.SimpleRNN(20, return_sequences=True),\n",
    "    keras.layers.TimeDistributed(keras.layers.Dense(10))\n",
    "])\n",
    "\n",
    "def last_time_step_mse(Y_true, Y_pred):\n",
    "    return keras.metrics.mean_squared_error(Y_true[:, -1], Y_pred[:, -1])\n",
    "\n",
    "model.compile(loss=\"mse\", optimizer=keras.optimizers.Adam(lr=0.01), metrics=[last_time_step_mse])\n",
    "history = model.fit(X_train, Y_train, epochs=20,\n",
    "                    validation_data=(X_valid, Y_valid))"
   ]
  },
  {
   "cell_type": "code",
   "execution_count": null,
   "id": "dependent-snapshot",
   "metadata": {},
   "outputs": [],
   "source": []
  },
  {
   "cell_type": "code",
   "execution_count": 46,
   "id": "demonstrated-congo",
   "metadata": {},
   "outputs": [],
   "source": [
    "#LSTM\n",
    "model = keras.models.Sequential([\n",
    "    keras.layers.LSTM(20, return_sequences = True, input_shape = [None, 1]), \n",
    "    keras.layers.LSTM(20, return_sequences = True), \n",
    "    keras.layers.TimeDistributed(keras.layers.Dense(10))\n",
    "])"
   ]
  },
  {
   "cell_type": "code",
   "execution_count": 48,
   "id": "incorporate-korea",
   "metadata": {},
   "outputs": [
    {
     "name": "stdout",
     "output_type": "stream",
     "text": [
      "Epoch 1/20\n",
      "219/219 [==============================] - 5s 18ms/step - loss: 0.1003 - last_time_step_mse: 0.0921 - val_loss: 0.0363 - val_last_time_step_mse: 0.0233\n",
      "Epoch 2/20\n",
      "219/219 [==============================] - 4s 17ms/step - loss: 0.0336 - last_time_step_mse: 0.0201 - val_loss: 0.0301 - val_last_time_step_mse: 0.0167\n",
      "Epoch 3/20\n",
      "219/219 [==============================] - 4s 18ms/step - loss: 0.0300 - last_time_step_mse: 0.0167 - val_loss: 0.0285 - val_last_time_step_mse: 0.0153\n",
      "Epoch 4/20\n",
      "219/219 [==============================] - 7s 31ms/step - loss: 0.0280 - last_time_step_mse: 0.0150 - val_loss: 0.0262 - val_last_time_step_mse: 0.0136\n",
      "Epoch 5/20\n",
      "219/219 [==============================] - 7s 30ms/step - loss: 0.0262 - last_time_step_mse: 0.0138 - val_loss: 0.0255 - val_last_time_step_mse: 0.0132\n",
      "Epoch 6/20\n",
      "219/219 [==============================] - 5s 21ms/step - loss: 0.0249 - last_time_step_mse: 0.0124 - val_loss: 0.0241 - val_last_time_step_mse: 0.0116\n",
      "Epoch 7/20\n",
      "219/219 [==============================] - 7s 30ms/step - loss: 0.0243 - last_time_step_mse: 0.0119 - val_loss: 0.0236 - val_last_time_step_mse: 0.0112\n",
      "Epoch 8/20\n",
      "219/219 [==============================] - 6s 28ms/step - loss: 0.0236 - last_time_step_mse: 0.0109 - val_loss: 0.0234 - val_last_time_step_mse: 0.0114\n",
      "Epoch 9/20\n",
      "219/219 [==============================] - 6s 28ms/step - loss: 0.0227 - last_time_step_mse: 0.0108 - val_loss: 0.0223 - val_last_time_step_mse: 0.0098\n",
      "Epoch 10/20\n",
      "219/219 [==============================] - 6s 29ms/step - loss: 0.0223 - last_time_step_mse: 0.0103 - val_loss: 0.0218 - val_last_time_step_mse: 0.0091\n",
      "Epoch 11/20\n",
      "219/219 [==============================] - 6s 27ms/step - loss: 0.0216 - last_time_step_mse: 0.0096 - val_loss: 0.0213 - val_last_time_step_mse: 0.0088\n",
      "Epoch 12/20\n",
      "219/219 [==============================] - 3s 16ms/step - loss: 0.0211 - last_time_step_mse: 0.0091 - val_loss: 0.0207 - val_last_time_step_mse: 0.0083\n",
      "Epoch 13/20\n",
      "219/219 [==============================] - 4s 16ms/step - loss: 0.0209 - last_time_step_mse: 0.0087 - val_loss: 0.0206 - val_last_time_step_mse: 0.0085\n",
      "Epoch 14/20\n",
      "219/219 [==============================] - 4s 18ms/step - loss: 0.0204 - last_time_step_mse: 0.0084 - val_loss: 0.0201 - val_last_time_step_mse: 0.0077\n",
      "Epoch 15/20\n",
      "219/219 [==============================] - 7s 31ms/step - loss: 0.0201 - last_time_step_mse: 0.0079 - val_loss: 0.0199 - val_last_time_step_mse: 0.0073\n",
      "Epoch 16/20\n",
      "219/219 [==============================] - 4s 20ms/step - loss: 0.0195 - last_time_step_mse: 0.0073 - val_loss: 0.0194 - val_last_time_step_mse: 0.0071\n",
      "Epoch 17/20\n",
      "219/219 [==============================] - 4s 17ms/step - loss: 0.0191 - last_time_step_mse: 0.0073 - val_loss: 0.0192 - val_last_time_step_mse: 0.0071\n",
      "Epoch 18/20\n",
      "219/219 [==============================] - 4s 20ms/step - loss: 0.0190 - last_time_step_mse: 0.0069 - val_loss: 0.0187 - val_last_time_step_mse: 0.0063\n",
      "Epoch 19/20\n",
      "219/219 [==============================] - 7s 32ms/step - loss: 0.0187 - last_time_step_mse: 0.0068 - val_loss: 0.0188 - val_last_time_step_mse: 0.0068\n",
      "Epoch 20/20\n",
      "219/219 [==============================] - 7s 30ms/step - loss: 0.0187 - last_time_step_mse: 0.0067 - val_loss: 0.0184 - val_last_time_step_mse: 0.0063\n"
     ]
    }
   ],
   "source": [
    "#Wavenet \n",
    "\n",
    "model = keras.models.Sequential()\n",
    "model.add(keras.layers.InputLayer(input_shape = [None, 1]))\n",
    "for rate in (1,2,4,8) * 2:\n",
    "    model.add(keras.layers.Conv1D(filters = 20, kernel_size = 2, padding = \"causal\", \n",
    "                                 activation = \"relu\", dilation_rate = rate))\n",
    "    \n",
    "model.add(keras.layers.Conv1D(filters = 10, kernel_size = 1))\n",
    "model.compile(loss = \"mse\", optimizer = \"adam\", metrics = [last_time_step_mse])\n",
    "history = model.fit(X_train, Y_train, epochs = 20, \n",
    "                   validation_data = (X_valid, Y_valid))"
   ]
  },
  {
   "cell_type": "code",
   "execution_count": null,
   "id": "coupled-freeware",
   "metadata": {},
   "outputs": [],
   "source": []
  }
 ],
 "metadata": {
  "kernelspec": {
   "display_name": "Python 3",
   "language": "python",
   "name": "python3"
  },
  "language_info": {
   "codemirror_mode": {
    "name": "ipython",
    "version": 3
   },
   "file_extension": ".py",
   "mimetype": "text/x-python",
   "name": "python",
   "nbconvert_exporter": "python",
   "pygments_lexer": "ipython3",
   "version": "3.8.5"
  }
 },
 "nbformat": 4,
 "nbformat_minor": 5
}
