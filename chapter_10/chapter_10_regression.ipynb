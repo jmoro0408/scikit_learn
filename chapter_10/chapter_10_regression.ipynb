{
 "cells": [
  {
   "cell_type": "code",
   "execution_count": 2,
   "id": "presidential-bouquet",
   "metadata": {},
   "outputs": [],
   "source": [
    "from sklearn.datasets import fetch_california_housing\n",
    "from sklearn.model_selection import train_test_split\n",
    "from sklearn.preprocessing import StandardScaler"
   ]
  },
  {
   "cell_type": "code",
   "execution_count": 14,
   "id": "latest-creation",
   "metadata": {},
   "outputs": [
    {
     "name": "stderr",
     "output_type": "stream",
     "text": [
      "/Users/James/.pyenv/versions/3.8.5/envs/ml_env/lib/python3.8/site-packages/pandas/compat/__init__.py:97: UserWarning: Could not import the lzma module. Your installed Python is incomplete. Attempting to use lzma compression will result in a RuntimeError.\n",
      "  warnings.warn(msg)\n"
     ]
    }
   ],
   "source": [
    "import tensorflow as tf\n",
    "from tensorflow import keras"
   ]
  },
  {
   "cell_type": "code",
   "execution_count": 3,
   "id": "institutional-activation",
   "metadata": {},
   "outputs": [],
   "source": [
    "housing = fetch_california_housing()\n"
   ]
  },
  {
   "cell_type": "code",
   "execution_count": 5,
   "id": "transparent-silence",
   "metadata": {},
   "outputs": [],
   "source": [
    "#Get training and testing split from full dataset\n",
    "\n",
    "X_train_full, X_test, y_train_full, y_test = train_test_split(housing.data, housing.target, test_size=0.33, random_state=42)"
   ]
  },
  {
   "cell_type": "code",
   "execution_count": 6,
   "id": "leading-enhancement",
   "metadata": {},
   "outputs": [],
   "source": [
    "#split training set into training mini set and vlaidation set\n",
    "\n",
    "X_train, X_valid, y_train, y_valid = train_test_split(X_train_full, y_train_full, test_size=0.33, random_state=42)"
   ]
  },
  {
   "cell_type": "code",
   "execution_count": 7,
   "id": "national-infrastructure",
   "metadata": {},
   "outputs": [],
   "source": [
    "#Scaling inputs\n",
    "\n",
    "scaler = StandardScaler()\n",
    "X_train = scaler.fit_transform(X_train)\n",
    "X_valid = scaler.transform(X_valid)\n",
    "X_test = scaler.transform(X_test)"
   ]
  },
  {
   "cell_type": "code",
   "execution_count": 26,
   "id": "competitive-belly",
   "metadata": {},
   "outputs": [
    {
     "name": "stdout",
     "output_type": "stream",
     "text": [
      "Epoch 1/20\n",
      "290/290 [==============================] - 1s 2ms/step - loss: 3.4123 - val_loss: 0.9732\n",
      "Epoch 2/20\n",
      "290/290 [==============================] - 0s 2ms/step - loss: 0.8746 - val_loss: 0.7402\n",
      "Epoch 3/20\n",
      "290/290 [==============================] - 1s 2ms/step - loss: 0.7406 - val_loss: 0.6924\n",
      "Epoch 4/20\n",
      "290/290 [==============================] - 0s 2ms/step - loss: 0.7087 - val_loss: 0.6663\n",
      "Epoch 5/20\n",
      "290/290 [==============================] - 0s 2ms/step - loss: 0.6886 - val_loss: 0.6427\n",
      "Epoch 6/20\n",
      "290/290 [==============================] - 0s 2ms/step - loss: 0.6297 - val_loss: 0.6232\n",
      "Epoch 7/20\n",
      "290/290 [==============================] - 1s 2ms/step - loss: 0.6239 - val_loss: 0.6059\n",
      "Epoch 8/20\n",
      "290/290 [==============================] - 1s 2ms/step - loss: 0.5942 - val_loss: 0.5906\n",
      "Epoch 9/20\n",
      "290/290 [==============================] - 1s 2ms/step - loss: 0.5735 - val_loss: 0.5779\n",
      "Epoch 10/20\n",
      "290/290 [==============================] - 1s 2ms/step - loss: 0.5894 - val_loss: 0.5650\n",
      "Epoch 11/20\n",
      "290/290 [==============================] - 0s 2ms/step - loss: 0.5787 - val_loss: 0.5537\n",
      "Epoch 12/20\n",
      "290/290 [==============================] - 0s 2ms/step - loss: 0.5635 - val_loss: 0.5442\n",
      "Epoch 13/20\n",
      "290/290 [==============================] - 0s 2ms/step - loss: 0.5413 - val_loss: 0.5352\n",
      "Epoch 14/20\n",
      "290/290 [==============================] - 1s 2ms/step - loss: 0.5197 - val_loss: 0.5268\n",
      "Epoch 15/20\n",
      "290/290 [==============================] - 1s 2ms/step - loss: 0.5157 - val_loss: 0.5202\n",
      "Epoch 16/20\n",
      "290/290 [==============================] - 0s 2ms/step - loss: 0.5102 - val_loss: 0.5124\n",
      "Epoch 17/20\n",
      "290/290 [==============================] - 1s 2ms/step - loss: 0.4956 - val_loss: 0.5066\n",
      "Epoch 18/20\n",
      "290/290 [==============================] - 1s 2ms/step - loss: 0.5005 - val_loss: 0.5018\n",
      "Epoch 19/20\n",
      "290/290 [==============================] - 1s 2ms/step - loss: 0.4899 - val_loss: 0.4949\n",
      "Epoch 20/20\n",
      "290/290 [==============================] - 0s 2ms/step - loss: 0.4769 - val_loss: 0.4908\n",
      "213/213 [==============================] - 0s 1ms/step - loss: 0.4939\n"
     ]
    }
   ],
   "source": [
    "model_seq = keras.models.Sequential([\n",
    "    keras.layers.Dense(30, activation=\"relu\", input_shape=X_train.shape[1:]),\n",
    "    keras.layers.Dense(1)\n",
    "])\n",
    "model_seq.compile(loss=\"mean_squared_error\", optimizer=keras.optimizers.SGD(lr=1e-3))\n",
    "history = model_seq.fit(X_train, y_train, epochs=20, validation_data=(X_valid, y_valid))\n",
    "mse_test = model_seq.evaluate(X_test, y_test)\n",
    "X_new = X_test[:3]\n",
    "y_pred = model_seq.predict(X_new)"
   ]
  },
  {
   "cell_type": "code",
   "execution_count": null,
   "id": "damaged-chest",
   "metadata": {},
   "outputs": [],
   "source": []
  },
  {
   "cell_type": "code",
   "execution_count": 27,
   "id": "annoying-criterion",
   "metadata": {},
   "outputs": [
    {
     "data": {
      "text/plain": [
       "(0.0, 1.0)"
      ]
     },
     "execution_count": 27,
     "metadata": {},
     "output_type": "execute_result"
    },
    {
     "data": {
      "image/png": "[encoded data removed]",
      "text/plain": [
       "<Figure size 432x288 with 1 Axes>"
      ]
     },
     "metadata": {
      "needs_background": "light"
     },
     "output_type": "display_data"
    }
   ],
   "source": [
    "import pandas as pd\n",
    "import matplotlib.pyplot as plt\n",
    "model_seq_hist = pd.DataFrame(history.history)\n",
    "plt.grid(True)\n",
    "plt.gca().set_ylim(0,1)"
   ]
  },
  {
   "cell_type": "code",
   "execution_count": 28,
   "id": "therapeutic-upset",
   "metadata": {},
   "outputs": [],
   "source": [
    "input_ = keras.layers.Input(shape=X_train.shape[1:])\n",
    "hidden1 = keras.layers.Dense(30, activation=\"relu\")(input_)\n",
    "hidden2 = keras.layers.Dense(30, activation=\"relu\")(hidden1)\n",
    "concat = keras.layers.concatenate([input_, hidden2])\n",
    "output = keras.layers.Dense(1)(concat)\n",
    "model_func = keras.models.Model(inputs=[input_], outputs=[output])"
   ]
  },
  {
   "cell_type": "code",
   "execution_count": 29,
   "id": "collaborative-madison",
   "metadata": {},
   "outputs": [
    {
     "name": "stdout",
     "output_type": "stream",
     "text": [
      "Epoch 1/20\n",
      "290/290 [==============================] - 1s 2ms/step - loss: 3.7882 - val_loss: 0.9112\n",
      "Epoch 2/20\n",
      "290/290 [==============================] - 0s 2ms/step - loss: 0.8364 - val_loss: 0.6916\n",
      "Epoch 3/20\n",
      "290/290 [==============================] - 0s 2ms/step - loss: 0.7045 - val_loss: 0.6427\n",
      "Epoch 4/20\n",
      "290/290 [==============================] - 0s 2ms/step - loss: 0.6455 - val_loss: 0.6061\n",
      "Epoch 5/20\n",
      "290/290 [==============================] - 0s 2ms/step - loss: 0.6125 - val_loss: 0.5868\n",
      "Epoch 6/20\n",
      "290/290 [==============================] - 0s 2ms/step - loss: 0.5765 - val_loss: 0.5687\n",
      "Epoch 7/20\n",
      "290/290 [==============================] - 0s 2ms/step - loss: 0.5787 - val_loss: 0.5557\n",
      "Epoch 8/20\n",
      "290/290 [==============================] - 1s 2ms/step - loss: 0.5742 - val_loss: 0.5448\n",
      "Epoch 9/20\n",
      "290/290 [==============================] - 0s 2ms/step - loss: 0.5641 - val_loss: 0.5341\n",
      "Epoch 10/20\n",
      "290/290 [==============================] - 1s 2ms/step - loss: 0.5322 - val_loss: 0.5263\n",
      "Epoch 11/20\n",
      "290/290 [==============================] - 0s 2ms/step - loss: 0.5351 - val_loss: 0.5211\n",
      "Epoch 12/20\n",
      "290/290 [==============================] - 1s 2ms/step - loss: 0.5233 - val_loss: 0.5167\n",
      "Epoch 13/20\n",
      "290/290 [==============================] - 1s 2ms/step - loss: 0.5063 - val_loss: 0.5114\n",
      "Epoch 14/20\n",
      "290/290 [==============================] - 0s 2ms/step - loss: 0.5086 - val_loss: 0.5107\n",
      "Epoch 15/20\n",
      "290/290 [==============================] - 1s 3ms/step - loss: 0.4951 - val_loss: 0.5078\n",
      "Epoch 16/20\n",
      "290/290 [==============================] - 1s 2ms/step - loss: 0.5046 - val_loss: 0.4998\n",
      "Epoch 17/20\n",
      "290/290 [==============================] - 1s 2ms/step - loss: 0.4816 - val_loss: 0.4981\n",
      "Epoch 18/20\n",
      "290/290 [==============================] - 1s 2ms/step - loss: 0.4858 - val_loss: 0.4931\n",
      "Epoch 19/20\n",
      "290/290 [==============================] - 0s 2ms/step - loss: 0.4994 - val_loss: 0.4898\n",
      "Epoch 20/20\n",
      "290/290 [==============================] - 1s 2ms/step - loss: 0.4815 - val_loss: 0.4890\n",
      "213/213 [==============================] - 0s 1ms/step - loss: 0.4996\n"
     ]
    }
   ],
   "source": [
    "model_func.compile(loss=\"mean_squared_error\", optimizer=keras.optimizers.SGD(lr=1e-3))\n",
    "history = model_func.fit(X_train, y_train, epochs=20, validation_data=(X_valid, y_valid))\n",
    "mse_test = model_func.evaluate(X_test, y_test)\n",
    "X_new = X_test[:3]\n",
    "y_pred = model_func.predict(X_new)"
   ]
  },
  {
   "cell_type": "code",
   "execution_count": 34,
   "id": "reduced-newport",
   "metadata": {},
   "outputs": [
    {
     "data": {
      "text/plain": [
       "[<matplotlib.lines.Line2D at 0x152a6dca0>,\n",
       " <matplotlib.lines.Line2D at 0x152a6dd90>]"
      ]
     },
     "execution_count": 34,
     "metadata": {},
     "output_type": "execute_result"
    },
    {
     "data": {
      "image/png": "[encoded data removed]",
      "text/plain": [
       "<Figure size 432x288 with 1 Axes>"
      ]
     },
     "metadata": {
      "needs_background": "light"
     },
     "output_type": "display_data"
    }
   ],
   "source": [
    "model_func_history = pd.DataFrame(history.history)\n",
    "plt.plot(model_func_history)\n",
    "plt.plot(model_seq_hist)\n"
   ]
  },
  {
   "cell_type": "markdown",
   "id": "relative-stock",
   "metadata": {},
   "source": [
    "Imperitive style"
   ]
  },
  {
   "cell_type": "code",
   "execution_count": 38,
   "id": "received-filter",
   "metadata": {},
   "outputs": [],
   "source": [
    "class WideAndDeepModel(keras.models.Model):\n",
    "    def __init__(self, units=30, activation=\"relu\", **kwargs):\n",
    "            super().__init__(**kwargs)\n",
    "            self.hidden1 = keras.layers.Dense(units, activation=activation)\n",
    "            self.hidden2 = keras.layers.Dense(units, activation=activation)\n",
    "            self.main_output = keras.layers.Dense(1)\n",
    "            self.aux_output = keras.layers.Dense(1)\n",
    "\n",
    "    def call(self, inputs):\n",
    "        input_A, input_B = inputs\n",
    "        hidden1 = self.hidden1(input_B)\n",
    "        hidden2 = self.hidden2(hidden1)\n",
    "        concat = keras.layers.concatenate([input_A, hidden2])\n",
    "        main_output = self.main_output(concat)\n",
    "        aux_output = self.aux_output(hidden2)\n",
    "        return main_output, aux_output\n",
    "\n",
    "model = WideAndDeepModel(30, activation=\"relu\")"
   ]
  },
  {
   "cell_type": "code",
   "execution_count": 40,
   "id": "emotional-vaccine",
   "metadata": {},
   "outputs": [],
   "source": [
    "model_func.save(\"my_functional_model.h5\")"
   ]
  },
  {
   "cell_type": "code",
   "execution_count": 41,
   "id": "quick-retention",
   "metadata": {},
   "outputs": [],
   "source": [
    "model_func = keras.models.load_model(\"my_functional_model.h5\")"
   ]
  },
  {
   "cell_type": "code",
   "execution_count": 43,
   "id": "intellectual-reserve",
   "metadata": {},
   "outputs": [
    {
     "name": "stdout",
     "output_type": "stream",
     "text": [
      "Epoch 1/10\n",
      "290/290 [==============================] - 1s 1ms/step - loss: 0.4794\n",
      "Epoch 2/10\n",
      "290/290 [==============================] - 0s 1ms/step - loss: 0.4768\n",
      "Epoch 3/10\n",
      "290/290 [==============================] - 0s 1ms/step - loss: 0.4739\n",
      "Epoch 4/10\n",
      "290/290 [==============================] - 1s 2ms/step - loss: 0.4710\n",
      "Epoch 5/10\n",
      "290/290 [==============================] - 0s 2ms/step - loss: 0.4689\n",
      "Epoch 6/10\n",
      "290/290 [==============================] - 0s 1ms/step - loss: 0.4662\n",
      "Epoch 7/10\n",
      "290/290 [==============================] - 0s 1ms/step - loss: 0.4640\n",
      "Epoch 8/10\n",
      "290/290 [==============================] - 0s 1ms/step - loss: 0.4614\n",
      "Epoch 9/10\n",
      "290/290 [==============================] - 0s 1ms/step - loss: 0.4589\n",
      "Epoch 10/10\n",
      "290/290 [==============================] - 0s 1ms/step - loss: 0.4576\n"
     ]
    }
   ],
   "source": [
    "checkpoint_cb = keras.callbacks.ModelCheckpoint(\"my_functional_model.h5\")\n",
    "history = model_func.fit(X_train, y_train, epochs = 10, callbacks = [checkpoint_cb])"
   ]
  },
  {
   "cell_type": "code",
   "execution_count": 44,
   "id": "classified-bernard",
   "metadata": {},
   "outputs": [],
   "source": [
    "early_stopping_cb = keras.callbacks.EarlyStopping(patience = 10, restore_best_weights = True)"
   ]
  },
  {
   "cell_type": "code",
   "execution_count": 46,
   "id": "attempted-grammar",
   "metadata": {},
   "outputs": [
    {
     "name": "stdout",
     "output_type": "stream",
     "text": [
      "Epoch 1/100\n",
      "290/290 [==============================] - 1s 2ms/step - loss: 0.4549 - val_loss: 0.4626\n",
      "Epoch 2/100\n",
      "290/290 [==============================] - 1s 2ms/step - loss: 0.4527 - val_loss: 0.4610\n",
      "Epoch 3/100\n",
      "290/290 [==============================] - 1s 2ms/step - loss: 0.4508 - val_loss: 0.4601\n",
      "Epoch 4/100\n",
      "290/290 [==============================] - 1s 2ms/step - loss: 0.4486 - val_loss: 0.4646\n",
      "Epoch 5/100\n",
      "290/290 [==============================] - 0s 2ms/step - loss: 0.4467 - val_loss: 0.4572\n",
      "Epoch 6/100\n",
      "290/290 [==============================] - 0s 2ms/step - loss: 0.4447 - val_loss: 0.4542\n",
      "Epoch 7/100\n",
      "290/290 [==============================] - 0s 2ms/step - loss: 0.4430 - val_loss: 0.4538\n",
      "Epoch 8/100\n",
      "290/290 [==============================] - 0s 2ms/step - loss: 0.4410 - val_loss: 0.4554\n",
      "Epoch 9/100\n",
      "290/290 [==============================] - 0s 2ms/step - loss: 0.4391 - val_loss: 0.4476\n",
      "Epoch 10/100\n",
      "290/290 [==============================] - 1s 2ms/step - loss: 0.4373 - val_loss: 0.4499\n",
      "Epoch 11/100\n",
      "290/290 [==============================] - 0s 2ms/step - loss: 0.4354 - val_loss: 0.4435\n",
      "Epoch 12/100\n",
      "290/290 [==============================] - 0s 2ms/step - loss: 0.4336 - val_loss: 0.4437\n",
      "Epoch 13/100\n",
      "290/290 [==============================] - 0s 2ms/step - loss: 0.4320 - val_loss: 0.4436\n",
      "Epoch 14/100\n",
      "290/290 [==============================] - 1s 2ms/step - loss: 0.4302 - val_loss: 0.4405\n",
      "Epoch 15/100\n",
      "290/290 [==============================] - 1s 2ms/step - loss: 0.4282 - val_loss: 0.4370\n",
      "Epoch 16/100\n",
      "290/290 [==============================] - 1s 2ms/step - loss: 0.4269 - val_loss: 0.4399\n",
      "Epoch 17/100\n",
      "290/290 [==============================] - 1s 2ms/step - loss: 0.4251 - val_loss: 0.4379\n",
      "Epoch 18/100\n",
      "290/290 [==============================] - 1s 2ms/step - loss: 0.4232 - val_loss: 0.4345\n",
      "Epoch 19/100\n",
      "290/290 [==============================] - 1s 2ms/step - loss: 0.4217 - val_loss: 0.4336\n",
      "Epoch 20/100\n",
      "290/290 [==============================] - 1s 2ms/step - loss: 0.4203 - val_loss: 0.4332\n",
      "Epoch 21/100\n",
      "290/290 [==============================] - 1s 3ms/step - loss: 0.4184 - val_loss: 0.4289\n",
      "Epoch 22/100\n",
      "290/290 [==============================] - 1s 2ms/step - loss: 0.4172 - val_loss: 0.4280\n",
      "Epoch 23/100\n",
      "290/290 [==============================] - 1s 2ms/step - loss: 0.4156 - val_loss: 0.4281\n",
      "Epoch 24/100\n",
      "290/290 [==============================] - 1s 2ms/step - loss: 0.4137 - val_loss: 0.4264\n",
      "Epoch 25/100\n",
      "290/290 [==============================] - 1s 2ms/step - loss: 0.4124 - val_loss: 0.4233\n",
      "Epoch 26/100\n",
      "290/290 [==============================] - 1s 2ms/step - loss: 0.4108 - val_loss: 0.4241\n",
      "Epoch 27/100\n",
      "290/290 [==============================] - 1s 2ms/step - loss: 0.4092 - val_loss: 0.4204\n",
      "Epoch 28/100\n",
      "290/290 [==============================] - 1s 2ms/step - loss: 0.4078 - val_loss: 0.4179\n",
      "Epoch 29/100\n",
      "290/290 [==============================] - 1s 2ms/step - loss: 0.4064 - val_loss: 0.4174\n",
      "Epoch 30/100\n",
      "290/290 [==============================] - 1s 2ms/step - loss: 0.4051 - val_loss: 0.4155\n",
      "Epoch 31/100\n",
      "290/290 [==============================] - 1s 2ms/step - loss: 0.4039 - val_loss: 0.4146\n",
      "Epoch 32/100\n",
      "290/290 [==============================] - 1s 2ms/step - loss: 0.4023 - val_loss: 0.4158\n",
      "Epoch 33/100\n",
      "290/290 [==============================] - 1s 2ms/step - loss: 0.4009 - val_loss: 0.4145\n",
      "Epoch 34/100\n",
      "290/290 [==============================] - 0s 2ms/step - loss: 0.3995 - val_loss: 0.4116\n",
      "Epoch 35/100\n",
      "290/290 [==============================] - 1s 2ms/step - loss: 0.3984 - val_loss: 0.4107\n",
      "Epoch 36/100\n",
      "290/290 [==============================] - 1s 2ms/step - loss: 0.3970 - val_loss: 0.4079\n",
      "Epoch 37/100\n",
      "290/290 [==============================] - 1s 2ms/step - loss: 0.3955 - val_loss: 0.4102\n",
      "Epoch 38/100\n",
      "290/290 [==============================] - 1s 2ms/step - loss: 0.3942 - val_loss: 0.4081\n",
      "Epoch 39/100\n",
      "290/290 [==============================] - 1s 2ms/step - loss: 0.3933 - val_loss: 0.4046\n",
      "Epoch 40/100\n",
      "290/290 [==============================] - 1s 2ms/step - loss: 0.3918 - val_loss: 0.4067\n",
      "Epoch 41/100\n",
      "290/290 [==============================] - 1s 2ms/step - loss: 0.3910 - val_loss: 0.4025\n",
      "Epoch 42/100\n",
      "290/290 [==============================] - 1s 2ms/step - loss: 0.3899 - val_loss: 0.4031\n",
      "Epoch 43/100\n",
      "290/290 [==============================] - 1s 2ms/step - loss: 0.3885 - val_loss: 0.4011\n",
      "Epoch 44/100\n",
      "290/290 [==============================] - 1s 2ms/step - loss: 0.3874 - val_loss: 0.4041\n",
      "Epoch 45/100\n",
      "290/290 [==============================] - 1s 2ms/step - loss: 0.3862 - val_loss: 0.4019\n",
      "Epoch 46/100\n",
      "290/290 [==============================] - 1s 2ms/step - loss: 0.3852 - val_loss: 0.3974\n",
      "Epoch 47/100\n",
      "290/290 [==============================] - 1s 2ms/step - loss: 0.3841 - val_loss: 0.3961\n",
      "Epoch 48/100\n",
      "290/290 [==============================] - 1s 2ms/step - loss: 0.3832 - val_loss: 0.3954\n",
      "Epoch 49/100\n",
      "290/290 [==============================] - 1s 2ms/step - loss: 0.3821 - val_loss: 0.3950\n",
      "Epoch 50/100\n",
      "290/290 [==============================] - 1s 2ms/step - loss: 0.3813 - val_loss: 0.3942\n",
      "Epoch 51/100\n",
      "290/290 [==============================] - 1s 2ms/step - loss: 0.3805 - val_loss: 0.3930\n",
      "Epoch 52/100\n",
      "290/290 [==============================] - 1s 2ms/step - loss: 0.3792 - val_loss: 0.3939\n",
      "Epoch 53/100\n",
      "290/290 [==============================] - 1s 2ms/step - loss: 0.3780 - val_loss: 0.3895\n",
      "Epoch 54/100\n",
      "290/290 [==============================] - 1s 2ms/step - loss: 0.3772 - val_loss: 0.3906\n",
      "Epoch 55/100\n",
      "290/290 [==============================] - 1s 2ms/step - loss: 0.3763 - val_loss: 0.3893\n",
      "Epoch 56/100\n",
      "290/290 [==============================] - 1s 2ms/step - loss: 0.3756 - val_loss: 0.3876\n",
      "Epoch 57/100\n",
      "290/290 [==============================] - 1s 2ms/step - loss: 0.3747 - val_loss: 0.3888\n",
      "Epoch 58/100\n",
      "290/290 [==============================] - 1s 2ms/step - loss: 0.3738 - val_loss: 0.3903\n",
      "Epoch 59/100\n",
      "290/290 [==============================] - 1s 2ms/step - loss: 0.3730 - val_loss: 0.3875\n",
      "Epoch 60/100\n",
      "290/290 [==============================] - 1s 2ms/step - loss: 0.3720 - val_loss: 0.3874\n",
      "Epoch 61/100\n",
      "290/290 [==============================] - 1s 2ms/step - loss: 0.3710 - val_loss: 0.3886\n",
      "Epoch 62/100\n",
      "290/290 [==============================] - 1s 2ms/step - loss: 0.3707 - val_loss: 0.3867\n",
      "Epoch 63/100\n",
      "290/290 [==============================] - 1s 2ms/step - loss: 0.3696 - val_loss: 0.3846\n",
      "Epoch 64/100\n",
      "290/290 [==============================] - 1s 2ms/step - loss: 0.3689 - val_loss: 0.3891\n",
      "Epoch 65/100\n",
      "290/290 [==============================] - 1s 2ms/step - loss: 0.3683 - val_loss: 0.3844\n",
      "Epoch 66/100\n",
      "290/290 [==============================] - 1s 2ms/step - loss: 0.3674 - val_loss: 0.3867\n",
      "Epoch 67/100\n",
      "290/290 [==============================] - 1s 2ms/step - loss: 0.3667 - val_loss: 0.3836\n",
      "Epoch 68/100\n",
      "290/290 [==============================] - 1s 2ms/step - loss: 0.3658 - val_loss: 0.3838\n",
      "Epoch 69/100\n",
      "290/290 [==============================] - 1s 2ms/step - loss: 0.3653 - val_loss: 0.3828\n",
      "Epoch 70/100\n",
      "290/290 [==============================] - 1s 2ms/step - loss: 0.3646 - val_loss: 0.3812\n",
      "Epoch 71/100\n",
      "290/290 [==============================] - 1s 2ms/step - loss: 0.3639 - val_loss: 0.3765\n",
      "Epoch 72/100\n",
      "290/290 [==============================] - 1s 2ms/step - loss: 0.3630 - val_loss: 0.3766\n",
      "Epoch 73/100\n",
      "290/290 [==============================] - 1s 2ms/step - loss: 0.3623 - val_loss: 0.3757\n",
      "Epoch 74/100\n",
      "290/290 [==============================] - 1s 2ms/step - loss: 0.3617 - val_loss: 0.3777\n",
      "Epoch 75/100\n",
      "290/290 [==============================] - 1s 2ms/step - loss: 0.3613 - val_loss: 0.3751\n",
      "Epoch 76/100\n",
      "290/290 [==============================] - 1s 2ms/step - loss: 0.3605 - val_loss: 0.3748\n",
      "Epoch 77/100\n",
      "290/290 [==============================] - 1s 2ms/step - loss: 0.3596 - val_loss: 0.3738\n",
      "Epoch 78/100\n",
      "290/290 [==============================] - 1s 2ms/step - loss: 0.3592 - val_loss: 0.3732\n",
      "Epoch 79/100\n",
      "290/290 [==============================] - 1s 2ms/step - loss: 0.3584 - val_loss: 0.3719\n",
      "Epoch 80/100\n",
      "290/290 [==============================] - 1s 2ms/step - loss: 0.3583 - val_loss: 0.3707\n",
      "Epoch 81/100\n",
      "290/290 [==============================] - 1s 2ms/step - loss: 0.3577 - val_loss: 0.3749\n",
      "Epoch 82/100\n",
      "290/290 [==============================] - 1s 2ms/step - loss: 0.3581 - val_loss: 0.3722\n",
      "Epoch 83/100\n",
      "290/290 [==============================] - 1s 2ms/step - loss: 0.3597 - val_loss: 0.3741\n",
      "Epoch 84/100\n",
      "290/290 [==============================] - 1s 2ms/step - loss: 0.3581 - val_loss: 0.3826\n",
      "Epoch 85/100\n",
      "290/290 [==============================] - 1s 2ms/step - loss: 0.3635 - val_loss: 0.4012\n",
      "Epoch 86/100\n",
      "290/290 [==============================] - 1s 2ms/step - loss: 0.3641 - val_loss: 0.4296\n",
      "Epoch 87/100\n",
      "290/290 [==============================] - 1s 2ms/step - loss: 0.3649 - val_loss: 0.3690\n",
      "Epoch 88/100\n",
      "290/290 [==============================] - 1s 2ms/step - loss: 0.3536 - val_loss: 0.3689\n",
      "Epoch 89/100\n",
      "290/290 [==============================] - 1s 2ms/step - loss: 0.3523 - val_loss: 0.3667\n",
      "Epoch 90/100\n",
      "290/290 [==============================] - 1s 2ms/step - loss: 0.3518 - val_loss: 0.3692\n",
      "Epoch 91/100\n",
      "290/290 [==============================] - 1s 2ms/step - loss: 0.3514 - val_loss: 0.3685\n",
      "Epoch 92/100\n",
      "290/290 [==============================] - 1s 2ms/step - loss: 0.3505 - val_loss: 0.3654\n",
      "Epoch 93/100\n",
      "290/290 [==============================] - 1s 2ms/step - loss: 0.3504 - val_loss: 0.3643\n",
      "Epoch 94/100\n",
      "290/290 [==============================] - 1s 2ms/step - loss: 0.3492 - val_loss: 0.3671\n",
      "Epoch 95/100\n",
      "290/290 [==============================] - 1s 2ms/step - loss: 0.3492 - val_loss: 0.3633\n",
      "Epoch 96/100\n",
      "290/290 [==============================] - 1s 2ms/step - loss: 0.3486 - val_loss: 0.3634\n",
      "Epoch 97/100\n",
      "290/290 [==============================] - 1s 2ms/step - loss: 0.3480 - val_loss: 0.3643\n",
      "Epoch 98/100\n",
      "290/290 [==============================] - 1s 2ms/step - loss: 0.3479 - val_loss: 0.3612\n",
      "Epoch 99/100\n",
      "290/290 [==============================] - 1s 2ms/step - loss: 0.3471 - val_loss: 0.3616\n",
      "Epoch 100/100\n",
      "290/290 [==============================] - 1s 2ms/step - loss: 0.3464 - val_loss: 0.3623\n"
     ]
    }
   ],
   "source": [
    "history = model_func.fit(X_train, y_train, \n",
    "                    epochs = 100, \n",
    "                    validation_data = (X_valid, y_valid), \n",
    "                    callbacks = [checkpoint_cb, early_stopping_cb]\n",
    "                   )"
   ]
  },
  {
   "cell_type": "code",
   "execution_count": null,
   "id": "specified-liabilities",
   "metadata": {},
   "outputs": [],
   "source": []
  }
 ],
 "metadata": {
  "kernelspec": {
   "display_name": "Python 3",
   "language": "python",
   "name": "python3"
  },
  "language_info": {
   "codemirror_mode": {
    "name": "ipython",
    "version": 3
   },
   "file_extension": ".py",
   "mimetype": "text/x-python",
   "name": "python",
   "nbconvert_exporter": "python",
   "pygments_lexer": "ipython3",
   "version": "3.8.5"
  }
 },
 "nbformat": 4,
 "nbformat_minor": 5
}
